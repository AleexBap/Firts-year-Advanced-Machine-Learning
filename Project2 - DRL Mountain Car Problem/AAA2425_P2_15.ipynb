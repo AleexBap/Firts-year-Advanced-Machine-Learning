{
 "cells": [
  {
   "cell_type": "markdown",
   "id": "6983db83-374b-4162-acf3-7af48d1bfa58",
   "metadata": {},
   "source": [
    "# **Deep Reinforcement Learning - Mountain Car problem**\n",
    "## Project 2: Advanced Machine Learning\n",
    "**Group Members:**\n",
    "- **João Ascenso, Nº 56939**\n",
    "- **Alexandre Baptista, Nº 64506**"
   ]
  },
  {
   "cell_type": "markdown",
   "id": "564a909c",
   "metadata": {},
   "source": [
    "### **1. Introduction**"
   ]
  },
  {
   "cell_type": "markdown",
   "id": "48ae3692",
   "metadata": {},
   "source": [
    "The Mountain Car problem is a fundamental reinforcement learning challenge that serves as a benchmark for evaluating various algorithms. In this task, an underpowered car must reach the top of a hill by building momentum through oscillatory movements. The car's state is defined by its position and velocity, both of which are continuous variables. The agent's objective is to learn how to efficiently accelerate and decelerate to reach the goal using the least number of steps, as each step incurs a negative reward.\n",
    "\n",
    "This project aims to implement and compare three agents to solve the Mountain Car problem:  \n",
    "1. **Q-learning Agent** – A table-based algorithm that discretizes the continuous state space.  \n",
    "2. **Deep Q-Network (DQN) Agent** – A neural network-based agent capable of approximating Q-values in continuous environments.  \n",
    "3. **Soft Actor-Critic (SAC) Agent** – A state-of-the-art deep reinforcement learning algorithm known for its stability and ability to handle continuous action spaces.\n",
    "\n",
    "The project explores the strengths and limitations of each approach, comparing their efficiency, stability, and convergence. By implementing these agents, the objective is to gain deeper insight into the challenges of reinforcement learning and the trade-offs between traditional and deep learning-based methods."
   ]
  },
  {
   "cell_type": "markdown",
   "id": "898f2a4a",
   "metadata": {},
   "source": [
    "### **2. Dependencies**"
   ]
  },
  {
   "cell_type": "markdown",
   "id": "e1af8353-4680-4034-a11a-44ac387182e2",
   "metadata": {},
   "source": [
    "The following dependencies are essential for implementing and evaluating the Q-learning, DQN, and SAC agents in the Mountain Car problem.\n",
    "\n",
    "- **numpy** – For numerical operations and Q-table updates.  \n",
    "- **time** – To measure training duration.  \n",
    "- **matplotlib** – For plotting training results and comparisons.  \n",
    "- **gymnasium (gym)** – Provides the `MountainCar-v0` environment.  \n",
    "- **gymnax** – A JAX-compatible gym environment for faster simulations.  \n",
    "- **jax** – For high-performance numerical computing on GPU/TPU.  \n",
    "- **RLinJAX** – JAX-based reinforcement learning framework for DQN and SAC.  "
   ]
  },
  {
   "cell_type": "code",
   "execution_count": 18,
   "id": "2bd58606-5ea9-401f-97c8-9d5f25a97deb",
   "metadata": {
    "tags": []
   },
   "outputs": [],
   "source": [
    "import numpy as np\n",
    "import time\n",
    "import matplotlib.pyplot as plt\n",
    "import gymnasium as gym\n",
    "import gymnax\n",
    "import jax\n",
    "from RLinJAX import get_algo\n",
    "from RLinJAX.evaluate import evaluate"
   ]
  },
  {
   "cell_type": "markdown",
   "id": "a37fa60a",
   "metadata": {},
   "source": [
    "### **3. Gymnasium Enviroment Exploration**"
   ]
  },
  {
   "cell_type": "markdown",
   "id": "42b9d87f",
   "metadata": {},
   "source": [
    "In this section, we explore the `MountainCar-v0` environment from Gymnasium. The goal of the agent is to drive a car up a steep hill by building enough momentum through successive accelerations. The environment provides continuous state observations and a discrete action space."
   ]
  },
  {
   "cell_type": "markdown",
   "id": "063c3589",
   "metadata": {},
   "source": [
    "The environment is initialized with `render_mode='rgb_array'` to allow rendering as images during the simulation. A reset operation returns the initial state, and the rendered image is displayed to visualize the starting point."
   ]
  },
  {
   "cell_type": "code",
   "execution_count": 2,
   "id": "f25f0a78",
   "metadata": {},
   "outputs": [],
   "source": [
    "env = gym.make(\n",
    "    'MountainCar-v0',\n",
    "    render_mode='rgb_array'\n",
    ")"
   ]
  },
  {
   "cell_type": "code",
   "execution_count": 3,
   "id": "ae9eab1f",
   "metadata": {},
   "outputs": [
    {
     "data": {
      "image/png": "[encoded data removed]",
      "text/plain": [
       "<Figure size 640x480 with 1 Axes>"
      ]
     },
     "metadata": {},
     "output_type": "display_data"
    }
   ],
   "source": [
    "env.reset()\n",
    "plt.imshow(env.render())\n",
    "plt.axis('off')\n",
    "plt.show()"
   ]
  },
  {
   "cell_type": "markdown",
   "id": "1af700d7",
   "metadata": {},
   "source": [
    "The observation space consists of two continuous variables:\n",
    "- **Position** – Represents the car's horizontal position.\n",
    "- **Velocity** – Represents the car's speed along the track.\n",
    "\n",
    "This continuous nature of the observation space requires discretization when implementing Q-learning."
   ]
  },
  {
   "cell_type": "code",
   "execution_count": 4,
   "id": "b3313cc0",
   "metadata": {},
   "outputs": [
    {
     "data": {
      "text/plain": [
       "Box([-1.2  -0.07], [0.6  0.07], (2,), float32)"
      ]
     },
     "metadata": {},
     "output_type": "display_data"
    }
   ],
   "source": [
    "display(env.observation_space) # it's continous"
   ]
  },
  {
   "cell_type": "code",
   "execution_count": 5,
   "id": "bc97e06e",
   "metadata": {},
   "outputs": [
    {
     "data": {
      "text/plain": [
       "Discrete(3)"
      ]
     },
     "metadata": {},
     "output_type": "display_data"
    }
   ],
   "source": [
    "display(env.action_space)"
   ]
  },
  {
   "cell_type": "markdown",
   "id": "898ed72b",
   "metadata": {},
   "source": [
    "The action space is discrete with three possible actions, as described in the table below:\n",
    "\n",
    "| Action | Description                |\n",
    "|--------|----------------------------|\n",
    "| 0      | Accelerate to the Left     |\n",
    "| 1      | Do Nothing (Coast)         |\n",
    "| 2      | Accelerate to the Right    |\n",
    "\n",
    "These simple actions allow the agent to either accelerate in both directions or remain stationary, influencing the car's position and momentum."
   ]
  },
  {
   "cell_type": "code",
   "execution_count": 6,
   "id": "06d59051",
   "metadata": {},
   "outputs": [
    {
     "data": {
      "text/plain": [
       "3"
      ]
     },
     "metadata": {},
     "output_type": "display_data"
    }
   ],
   "source": [
    "display(env.action_space.n)"
   ]
  },
  {
   "cell_type": "markdown",
   "id": "8166af4b",
   "metadata": {},
   "source": [
    "Understanding the environment's dynamics and observation/action spaces helps us implement reinforcement learning agents to solve the Mountain Car problem."
   ]
  },
  {
   "cell_type": "markdown",
   "id": "bf6f5bfd-c3f6-49c4-8281-28ce967867a1",
   "metadata": {},
   "source": [
    "### **4. Q-learning Agent**"
   ]
  },
  {
   "cell_type": "markdown",
   "id": "519ac77d",
   "metadata": {},
   "source": [
    "#### **4.1. Environment Initialization**"
   ]
  },
  {
   "cell_type": "markdown",
   "id": "52f2958a",
   "metadata": {},
   "source": [
    "The environment is initialized without rendering during training to speed up the process."
   ]
  },
  {
   "cell_type": "code",
   "execution_count": 7,
   "id": "de06f9b4",
   "metadata": {},
   "outputs": [],
   "source": [
    "env = gym.make('MountainCar-v0')"
   ]
  },
  {
   "cell_type": "markdown",
   "id": "b1ddda73-bfdc-4dd0-8ed9-6428552a0a0e",
   "metadata": {},
   "source": [
    "#### **4.2. Discretization and Defining Q-table**"
   ]
  },
  {
   "cell_type": "markdown",
   "id": "85e32384",
   "metadata": {},
   "source": [
    "Since the observation space is continuous, the state must be discretized into bins.  \n",
    "- **Position and Velocity** are divided into 20 bins each, creating a 20x20 state grid.  \n",
    "- The Q-table is initialized to zero with dimensions `(20, 20, 3)`, corresponding to the discretized states and the three available actions.  \n",
    "- The `discretize_state` function maps continuous states to discrete bins for Q-table updates."
   ]
  },
  {
   "cell_type": "code",
   "execution_count": 8,
   "id": "e3805d7c",
   "metadata": {},
   "outputs": [],
   "source": [
    "pos_bins = 20  # number of position bins\n",
    "vel_bins = 20  # number of velocity bins\n",
    "\n",
    "# initialize Q-table (20 x 20 x 3)\n",
    "Qtable = np.zeros((pos_bins, vel_bins, env.action_space.n))"
   ]
  },
  {
   "cell_type": "code",
   "execution_count": 9,
   "id": "cb7f7a86",
   "metadata": {},
   "outputs": [],
   "source": [
    "def discretize_state(state):\n",
    "    pos_min, pos_max = env.observation_space.low[0], env.observation_space.high[0]\n",
    "    vel_min, vel_max = env.observation_space.low[1], env.observation_space.high[1]\n",
    "    \n",
    "    # map continuous state to discrete bins\n",
    "    pos_bin = int((state[0] - pos_min) / (pos_max - pos_min) * (pos_bins - 1))\n",
    "    vel_bin = int((state[1] - vel_min) / (vel_max - vel_min) * (vel_bins - 1))\n",
    "    \n",
    "    return pos_bin, vel_bin"
   ]
  },
  {
   "cell_type": "markdown",
   "id": "e111d1f8-1848-4df1-9be7-9ffe71e9d27a",
   "metadata": {},
   "source": [
    "#### **4.3. Epsilon-greedy Policy for Action Selection**"
   ]
  },
  {
   "cell_type": "markdown",
   "id": "86749fe9",
   "metadata": {},
   "source": [
    "The agent balances exploration and exploitation using an epsilon-greedy policy:  \n",
    "- With probability `epsilon`, the agent selects a random action (explore).  \n",
    "- Otherwise, the action with the highest Q-value in the current state is chosen (exploit).  \n",
    "- The exploration rate `epsilon` decays over time to encourage convergence."
   ]
  },
  {
   "cell_type": "code",
   "execution_count": 10,
   "id": "74a03f32",
   "metadata": {},
   "outputs": [],
   "source": [
    "def epsilon_greedy(state, epsilon):\n",
    "    pos_bin, vel_bin = discretize_state(state)\n",
    "    if np.random.rand() < epsilon:\n",
    "        return env.action_space.sample()  # explore\n",
    "    return np.argmax(Qtable[pos_bin, vel_bin])  # exploit"
   ]
  },
  {
   "cell_type": "markdown",
   "id": "ed85f96d",
   "metadata": {},
   "source": [
    "#### **4.4. Hyperparameters**"
   ]
  },
  {
   "cell_type": "markdown",
   "id": "c457a8b1",
   "metadata": {},
   "source": [
    "The following hyperparameters were used to fine-tune the Q-learning agent:  \n",
    "- **α (Alpha):** Learning rate, controls the rate of Q-table updates.  \n",
    "- **γ (Gamma):** Discount factor, prioritizes future rewards.  \n",
    "- **ε (Epsilon):** Initial exploration rate, decaying over episodes.  \n",
    "- **ε-decay:** Decay rate of epsilon, gradually reducing exploration.  \n",
    "- **ε-min:** Minimum value of epsilon to ensure continued exploration.  \n",
    "- **Episodes:** Total number of training episodes.  \n",
    "- **Steps:** Maximum steps per episode. "
   ]
  },
  {
   "cell_type": "code",
   "execution_count": 11,
   "id": "fe31f090",
   "metadata": {},
   "outputs": [],
   "source": [
    "alpha = 0.05\n",
    "gamma = 0.999\n",
    "epsilon = 1.0\n",
    "epsilon_decay = 0.9995\n",
    "epsilon_min = 0.05\n",
    "num_episodes = 10000\n",
    "num_steps = 200"
   ]
  },
  {
   "cell_type": "markdown",
   "id": "dfb4648a",
   "metadata": {},
   "source": [
    "The selected hyperparameters ensure a balance between exploration, learning stability, and long-term reward optimization:  \n",
    "\n",
    "- **α (Alpha) = 0.05:** A low learning rate for stable and gradual Q-table updates.  \n",
    "- **γ (Gamma) = 0.999:** Prioritizes long-term rewards, essential for accumulating momentum in `MountainCar-v0`.  \n",
    "- **ε (Epsilon) = 1.0:** Full exploration at the start to cover more of the state space.  \n",
    "- **ε-decay = 0.9995:** Slow transition from exploration to exploitation, preventing premature convergence.  \n",
    "- **ε-min = 0.05:** Ensures continued exploration to avoid local optima.  \n",
    "- **num_episodes = 10000:** Allows sufficient learning in this challenging environment.  \n",
    "- **num_steps = 200:** Matches the DQN and SAC environment's episode limit for consistency and better comparison"
   ]
  },
  {
   "cell_type": "markdown",
   "id": "7031ea81",
   "metadata": {},
   "source": [
    "#### **4.5. Compute the Optimal Policy (Training Loop)**"
   ]
  },
  {
   "cell_type": "markdown",
   "id": "7c35603e",
   "metadata": {},
   "source": [
    "The agent is trained by iterating over episodes and updating the Q-table based on the agent’s experience:  \n",
    "1. Reset the environment and initialize the total reward.  \n",
    "2. Use the epsilon-greedy policy to select actions.  \n",
    "3. Update the Q-table using the Q-learning update rule:\n",
    "\n",
    "   $Q(s,a) = Q(s,a) + \\alpha (r + \\gamma \\max_{a'} Q(s',a') - Q(s,a))$\n",
    "\n",
    "4. Track cumulative rewards and steps per episode.  \n",
    "5. Decay `epsilon` to shift from exploration to exploitation."
   ]
  },
  {
   "cell_type": "code",
   "execution_count": 12,
   "id": "c1ccb275-e07f-4995-983c-1c5202950df8",
   "metadata": {
    "tags": []
   },
   "outputs": [],
   "source": [
    "rewards = []\n",
    "steps_per_episode = []\n",
    "env_steps = 0\n",
    "\n",
    "for episode in range(num_episodes):\n",
    "    state, _ = env.reset()\n",
    "    total_reward = 0\n",
    "    steps = 0\n",
    "\n",
    "    for t in range(num_steps):\n",
    "        # select action based on epsilon-greedy policy\n",
    "        action = epsilon_greedy(state, epsilon)\n",
    "        next_state, reward, done, _, _ = env.step(action)\n",
    "        \n",
    "        # discretize current and next states\n",
    "        pos_bin, vel_bin = discretize_state(state)\n",
    "        next_pos_bin, next_vel_bin = discretize_state(next_state)\n",
    "\n",
    "        # Q-learning update rule\n",
    "        next_action = np.argmax(Qtable[next_pos_bin, next_vel_bin])\n",
    "        Qtable[pos_bin, vel_bin, action] += alpha * (\n",
    "            reward + gamma * Qtable[next_pos_bin, next_vel_bin, next_action] - Qtable[pos_bin, vel_bin, action]\n",
    "        )\n",
    "        \n",
    "        # update state and accumulate rewards\n",
    "        state = next_state\n",
    "        total_reward += reward\n",
    "        steps += 1\n",
    "\n",
    "        if done:\n",
    "            break\n",
    "\n",
    "    # track steps and rewards after each episode\n",
    "    steps_per_episode.append(steps)\n",
    "    rewards.append(total_reward)\n",
    "    \n",
    "    # update cumulative environment steps\n",
    "    env_steps += steps\n",
    "\n",
    "    # decay epsilon (exploration-exploitation tradeoff)\n",
    "    epsilon = max(epsilon_min, epsilon * epsilon_decay)"
   ]
  },
  {
   "cell_type": "markdown",
   "id": "f545e81a-bfe4-4080-84f0-b709e23bd82a",
   "metadata": {},
   "source": [
    "#### **4.6. Extract and Display Optimal Policy**"
   ]
  },
  {
   "cell_type": "markdown",
   "id": "8b97c4a5",
   "metadata": {},
   "source": [
    "After training, the optimal policy is extracted from the Q-table. The policy is displayed in matrix form, where each entry represents the best action for a discretized state."
   ]
  },
  {
   "cell_type": "code",
   "execution_count": 13,
   "id": "40dc5bbe",
   "metadata": {},
   "outputs": [],
   "source": [
    "def extract_policy_from_q(Qtable):\n",
    "    policy = np.zeros((pos_bins, vel_bins), dtype=int)\n",
    "    for pos in range(pos_bins):\n",
    "        for vel in range(vel_bins):\n",
    "            policy[pos, vel] = np.argmax(Qtable[pos, vel])\n",
    "    return policy"
   ]
  },
  {
   "cell_type": "code",
   "execution_count": 14,
   "id": "1829a597",
   "metadata": {},
   "outputs": [
    {
     "name": "stdout",
     "output_type": "stream",
     "text": [
      "Optimal Policy from Q-Learning (Discretized States):\n",
      "[[0 1 2 2 0 2 0 2 2 2 2 2 1 0 0 0 0 0 0 0]\n",
      " [0 2 0 1 0 1 1 2 1 1 1 2 2 2 0 0 0 0 0 0]\n",
      " [0 2 1 0 1 0 2 2 0 0 2 2 2 2 2 0 0 0 0 0]\n",
      " [2 0 1 0 1 0 0 2 2 2 2 2 1 2 2 2 1 0 0 0]\n",
      " [1 1 0 0 2 1 1 0 1 2 2 2 2 2 2 2 2 0 0 0]\n",
      " [0 0 0 0 0 0 0 0 2 2 2 2 2 2 2 2 2 1 0 0]\n",
      " [0 0 2 0 0 0 0 0 2 2 2 2 2 2 1 2 2 2 0 0]\n",
      " [2 0 0 0 2 0 0 0 0 0 2 2 2 2 1 2 2 2 0 0]\n",
      " [2 0 2 0 1 0 0 1 0 0 0 2 2 2 2 2 2 2 0 0]\n",
      " [0 0 1 0 0 0 1 2 0 0 1 0 2 2 2 2 2 2 0 0]\n",
      " [0 1 0 0 1 1 0 0 0 0 0 2 1 2 2 1 2 2 0 0]\n",
      " [0 0 0 0 2 0 1 1 0 0 0 2 2 1 1 2 2 2 0 0]\n",
      " [0 0 0 2 0 0 1 0 0 1 2 1 2 1 2 2 2 2 0 0]\n",
      " [0 0 0 2 2 0 0 0 0 0 2 0 0 1 2 1 0 0 0 0]\n",
      " [0 0 0 0 0 2 0 0 1 0 0 0 2 1 2 2 1 0 0 0]\n",
      " [0 0 0 0 0 0 2 2 0 1 0 2 2 2 1 2 2 0 0 0]\n",
      " [0 0 0 0 0 0 1 1 0 0 2 2 1 2 2 2 2 0 0 0]\n",
      " [0 0 0 0 0 0 0 0 2 0 2 2 2 2 1 2 1 0 0 0]\n",
      " [0 0 0 0 0 0 0 0 0 0 0 0 0 0 0 0 0 0 0 0]\n",
      " [0 0 0 0 0 0 0 0 0 0 0 0 0 0 0 0 0 0 0 0]]\n"
     ]
    }
   ],
   "source": [
    "optimal_policy = extract_policy_from_q(Qtable)\n",
    "print(\"Optimal Policy from Q-Learning (Discretized States):\")\n",
    "print(optimal_policy)"
   ]
  },
  {
   "cell_type": "markdown",
   "id": "88adce3c",
   "metadata": {},
   "source": [
    "#### **4.7. Performance Analysis and Visualization**"
   ]
  },
  {
   "cell_type": "markdown",
   "id": "0460704c",
   "metadata": {},
   "source": [
    "To evaluate the agent’s performance:  \n",
    "- Rewards per episode are smoothed using a moving average filter.  \n",
    "- The cumulative environment steps are plotted against the smoothed episodic return.  \n",
    "- This visualizes the agent’s learning progress over time, highlighting performance improvements.\n",
    "\n",
    "The plot below shows the training performance of the Q-learning agent: "
   ]
  },
  {
   "cell_type": "code",
   "execution_count": 15,
   "id": "1d825e15",
   "metadata": {},
   "outputs": [],
   "source": [
    "# Apply moving average smoothing\n",
    "def smooth_data(data, window_size=50):\n",
    "    return np.convolve(data, np.ones(window_size) / window_size, mode='valid')\n",
    "\n",
    "# Smooth the data\n",
    "window_size = 50\n",
    "smoothed_rewards = smooth_data(rewards, window_size)\n",
    "cumulative_steps = np.cumsum(steps_per_episode)  # Calculate cumulative steps"
   ]
  },
  {
   "cell_type": "code",
   "execution_count": 16,
   "id": "cfd8316a",
   "metadata": {},
   "outputs": [
    {
     "data": {
      "image/png": "[encoded data removed]",
      "text/plain": [
       "<Figure size 1000x500 with 1 Axes>"
      ]
     },
     "metadata": {},
     "output_type": "display_data"
    }
   ],
   "source": [
    "# Plot cumulative steps vs smoothed rewards\n",
    "plt.figure(figsize=(10, 5))\n",
    "plt.plot(cumulative_steps[:len(smoothed_rewards)], smoothed_rewards, label=\"Episodic Return (smoothed)\")\n",
    "plt.xlabel('Environment Steps')\n",
    "plt.ylabel('Episodic Return')\n",
    "plt.title('Training Q-learning agent for MountainCar-v0')\n",
    "plt.legend()\n",
    "\n",
    "# Show the plot\n",
    "plt.show()"
   ]
  },
  {
   "cell_type": "markdown",
   "id": "7c6d5699",
   "metadata": {},
   "source": [
    "The graph shows the agent’s progression:  \n",
    "\n",
    "- **Early Phase:** Returns stay near -200, reflecting initial exploration and learning.  \n",
    "- **Mid-phase:** Performance improves with fluctuating but upward-trending returns, indicating increased exploitation.  \n",
    "- **Late Phase:** Stabilized performance with returns around -150, demonstrating the agent's learned policy.  \n",
    "\n",
    "The results highlight steady improvement and validate the hyperparameter choices, though return variability suggests further fine-tuning may enhance convergence."
   ]
  },
  {
   "cell_type": "markdown",
   "id": "f941a32d-5a48-414e-97e3-58a386fdb350",
   "metadata": {},
   "source": [
    "#### **4.8. Visualize Agent Performance**"
   ]
  },
  {
   "cell_type": "markdown",
   "id": "420fdcf7",
   "metadata": {},
   "source": [
    "The trained agent's performance is visualized by running the environment in `human` mode. The agent uses the greedy policy (ε=0) to select the best action at each state, demonstrating the learned behavior in real-time."
   ]
  },
  {
   "cell_type": "code",
   "execution_count": 17,
   "id": "5fc1021f",
   "metadata": {},
   "outputs": [
    {
     "name": "stderr",
     "output_type": "stream",
     "text": [
      "2025-01-03 12:44:17.145 python[85615:1624957] +[IMKClient subclass]: chose IMKClient_Modern\n",
      "2025-01-03 12:44:17.145 python[85615:1624957] +[IMKInputSession subclass]: chose IMKInputSession_Modern\n"
     ]
    }
   ],
   "source": [
    "env = gym.make('MountainCar-v0', render_mode='human')\n",
    "\n",
    "state, _ = env.reset()\n",
    "done = False\n",
    "while not done:\n",
    "    env.render()\n",
    "    action = epsilon_greedy(state, epsilon=0)\n",
    "    state, _, done, _, _ = env.step(action)\n",
    "\n",
    "env.close()"
   ]
  },
  {
   "cell_type": "markdown",
   "id": "f24758aa",
   "metadata": {},
   "source": [
    "### **5. Gymnax Enviroment Exploration**"
   ]
  },
  {
   "cell_type": "markdown",
   "id": "754c0cd1",
   "metadata": {},
   "source": [
    "In this section, we explore the `MountainCar-v0` environment provided by **Gymnax**, a JAX-based reinforcement learning library. Gymnax offers faster, more efficient simulations by utilizing JAX’s just-in-time (JIT) compilation and parallelization capabilities. This environment mirrors the classic Gymnasium `MountainCar-v0`, maintaining the same goal of accelerating an underpowered car up a hill by building momentum through oscillations."
   ]
  },
  {
   "cell_type": "markdown",
   "id": "385fac6b",
   "metadata": {},
   "source": [
    "The environment initialization returns key parameters that define the physics and constraints of the environment. These include the maximum steps in episode, positional and velocity limits, as well as the goal position and velocity. These constraints dictate the difficulty of the task and frame the agent’s learning objectives."
   ]
  },
  {
   "cell_type": "code",
   "execution_count": 19,
   "id": "ff5249ae",
   "metadata": {},
   "outputs": [
    {
     "data": {
      "text/plain": [
       "EnvParams(max_steps_in_episode=200, min_position=-1.2, max_position=0.6, max_speed=0.07, goal_position=0.5, goal_velocity=0.0, force=0.001, gravity=0.0025)"
      ]
     },
     "metadata": {},
     "output_type": "display_data"
    }
   ],
   "source": [
    "env, env_params = gymnax.make('MountainCar-v0')\n",
    "display(env_params)"
   ]
  },
  {
   "cell_type": "markdown",
   "id": "2ab13e78",
   "metadata": {},
   "source": [
    "The observation space consists of two continuous values representing the car’s **position** and **velocity**. The action space is discrete, consisting of three possible actions:  \n",
    "- Accelerate to the Left  \n",
    "- Do Nothing (Coast)  \n",
    "- Accelerate to the Right  \n",
    "\n",
    "This limited action space simplifies policy development but increases the challenge due to the environment's sparse rewards and difficult dynamics."
   ]
  },
  {
   "cell_type": "code",
   "execution_count": 20,
   "id": "b56b2b43",
   "metadata": {},
   "outputs": [
    {
     "data": {
      "text/plain": [
       "(2,)"
      ]
     },
     "metadata": {},
     "output_type": "display_data"
    },
    {
     "data": {
      "text/plain": [
       "3"
      ]
     },
     "metadata": {},
     "output_type": "display_data"
    },
    {
     "data": {
      "text/plain": [
       "3"
      ]
     },
     "metadata": {},
     "output_type": "display_data"
    }
   ],
   "source": [
    "display(env.observation_space(env_params).shape)\n",
    "display(env.action_space(env_params).n)\n",
    "display(env.num_actions)"
   ]
  },
  {
   "cell_type": "markdown",
   "id": "79d6d039",
   "metadata": {},
   "source": [
    "Running a single step through the environment highlights how the car's state evolves over time. The agent receives a reward of `-1` for each step, encouraging it to reach the goal as quickly as possible. The environment's deterministic nature ensures that running the same initial conditions will produce the same results, enabling consistent testing and reproducibility of the learning algorithm."
   ]
  },
  {
   "cell_type": "code",
   "execution_count": 21,
   "id": "248bb68f",
   "metadata": {},
   "outputs": [
    {
     "name": "stderr",
     "output_type": "stream",
     "text": [
      "/opt/anaconda3/lib/python3.12/site-packages/jax/_src/numpy/array_methods.py:118: UserWarning: Explicitly requested dtype <class 'jax.numpy.int64'> requested in astype is not available, and will be truncated to dtype int32. To enable more dtypes, set the jax_enable_x64 configuration option or the JAX_ENABLE_X64 shell environment variable. See https://github.com/jax-ml/jax#current-gotchas for more.\n",
      "  return lax_numpy.astype(self, dtype, copy=copy, device=device)\n"
     ]
    },
    {
     "data": {
      "text/plain": [
       "Array([-5.8331072e-01, -5.5867527e-04], dtype=float32)"
      ]
     },
     "metadata": {},
     "output_type": "display_data"
    },
    {
     "data": {
      "text/plain": [
       "EnvState(time=Array(1, dtype=int32, weak_type=True), position=Array(-0.5833107, dtype=float32), velocity=Array(-0.00055868, dtype=float32))"
      ]
     },
     "metadata": {},
     "output_type": "display_data"
    },
    {
     "data": {
      "text/plain": [
       "Array(-1., dtype=float32, weak_type=True)"
      ]
     },
     "metadata": {},
     "output_type": "display_data"
    },
    {
     "data": {
      "text/plain": [
       "Array(False, dtype=bool)"
      ]
     },
     "metadata": {},
     "output_type": "display_data"
    }
   ],
   "source": [
    "rng = jax.random.PRNGKey(0)\n",
    "rng, key_reset, key_policy, key_step = jax.random.split(rng, 4)\n",
    "\n",
    "obs, state = env.reset(key_reset, env_params)\n",
    "action = env.action_space(env_params).sample(key_policy)\n",
    "n_obs, n_state, reward, done, _ = env.step(key_step, state, action, env_params)\n",
    "display(n_obs, n_state, reward, done)"
   ]
  },
  {
   "cell_type": "markdown",
   "id": "9d0c57f7",
   "metadata": {},
   "source": [
    "### **6. DQN Agent**"
   ]
  },
  {
   "cell_type": "markdown",
   "id": "6f3c778c",
   "metadata": {},
   "source": [
    "The DQN agent is configured to solve the MountainCar-v0 environment by leveraging a dueling Q-network architecture. This section covers the agent’s setup, training process, and evaluation results."
   ]
  },
  {
   "cell_type": "markdown",
   "id": "fc3fdecd",
   "metadata": {},
   "source": [
    "#### **6.1. DQN Configuration**"
   ]
  },
  {
   "cell_type": "markdown",
   "id": "625d751f",
   "metadata": {},
   "source": [
    "The DQN agent for MountainCar-v0 is configured with a dueling Q-network, leveraging key hyperparameters to balance exploration, learning stability, and efficiency.\n",
    "  \n",
    "- **`activation`**: `swish` – Provides smoother and more efficient learning than ReLU.  \n",
    "- **`buffer_size`**: 100,000 – Large replay buffer ensures diverse training data.  \n",
    "- **`batch_size`**: 128 – Stabilizes updates with sufficiently large batches.  \n",
    "- **`learning_rate`**: 0.0005 – Small step size for stable convergence.  \n",
    "- **`target_update_freq`**: 50 – Updates target network frequently to avoid instability.  \n",
    "- **`total_timesteps`**: 500,000 – Sufficient steps for policy refinement.  \n",
    "- **`eps_start` / `eps_end`**: 1.0 / 0.01 – Gradual exploration decay ensures balanced exploration-exploitation.  \n",
    "- **`exploration_fraction`**: 0.7 – Epsilon decays over 70% of training, encouraging extended exploration.  \n",
    "- **`gamma`**: 0.99 – Prioritizes long-term rewards, critical for delayed goal environments.  \n",
    "- **`ddqn`**: `True` – Mitigates overestimation bias by using Double DQN.\n",
    "- **`polyak`**: 0.98 – Smooth soft updates to stabilize target network. "
   ]
  },
  {
   "cell_type": "code",
   "execution_count": 22,
   "id": "d39355bc",
   "metadata": {},
   "outputs": [],
   "source": [
    "CONFIGS = {\n",
    "    \"dqn\": {\n",
    "        \"agent\": \"DuelingQNetwork\",\n",
    "        \"agent_kwargs\": {\"activation\": \"swish\"},\n",
    "        \"buffer_size\": 100_000,\n",
    "        \"fill_buffer\": 1_000,\n",
    "        \"batch_size\": 128,\n",
    "        \"learning_rate\": 0.0005,\n",
    "        \"polyak\": 0.98,\n",
    "        \"num_epochs\": 5,\n",
    "        \"target_update_freq\": 50,\n",
    "        \"total_timesteps\": 400_000,\n",
    "        \"eval_freq\": 5_000,\n",
    "        \"eps_start\": 1.0,\n",
    "        \"eps_end\": 0.01,\n",
    "        \"exploration_fraction\": 0.7,\n",
    "        \"gamma\": 0.99,\n",
    "        \"ddqn\": True,\n",
    "        \"max_grad_norm\": 1.0\n",
    "    }\n",
    "}"
   ]
  },
  {
   "cell_type": "markdown",
   "id": "fa9a5bd9",
   "metadata": {},
   "source": [
    "**Insights:**\n",
    "\n",
    "- **Exploration**: High initial epsilon ensures broad exploration, decaying gradually to refine policy.  \n",
    "- **Stability**: Polyak updates (0.98) and Double DQN reduce fluctuations and overestimation.  \n",
    "- **Efficiency**: Large replay buffer, moderate batch size, and frequent target updates promote robust and stable learning.  \n",
    "\n",
    "These settings create a stable yet adaptable agent capable of efficiently solving the MountainCar-v0 environment. "
   ]
  },
  {
   "cell_type": "markdown",
   "id": "97774f1c",
   "metadata": {},
   "source": [
    "#### **6.2. Agent Initialization**"
   ]
  },
  {
   "cell_type": "markdown",
   "id": "0a8fdf15",
   "metadata": {},
   "source": [
    "The environment (MountainCar-v0) is initialized using Gymnax. The agent configuration parameters, including environment boundaries and dynamics, are loaded and printed to ensure proper setup."
   ]
  },
  {
   "cell_type": "code",
   "execution_count": 23,
   "id": "b552124d",
   "metadata": {},
   "outputs": [
    {
     "name": "stdout",
     "output_type": "stream",
     "text": [
      "{'env': <gymnax.environments.classic_control.mountain_car.MountainCar object at 0x333e997c0>, 'env_params': {'max_steps_in_episode': 200, 'min_position': -1.2, 'max_position': 0.6, 'max_speed': 0.07, 'goal_position': 0.5, 'goal_velocity': 0.0, 'force': 0.001, 'gravity': 0.0025}, 'eval_callback': <function Algorithm.create.<locals>.eval_callback at 0x333f1ca40>, 'eval_freq': 5000, 'skip_initial_evaluation': False, 'total_timesteps': 400000, 'learning_rate': 0.0005, 'gamma': 0.99, 'max_grad_norm': 1.0, 'normalize_observations': False, 'target_update_freq': 50, 'polyak': 0.98, 'num_envs': 1, 'buffer_size': 100000, 'fill_buffer': 1000, 'batch_size': 128, 'eps_start': 1.0, 'eps_end': 0.01, 'exploration_fraction': 0.7, 'agent': {'hidden_layer_sizes': (64, 64), 'activation': <PjitFunction>, 'action_dim': 3, 'parent': None, 'name': None}, 'num_epochs': 5, 'ddqn': True}\n"
     ]
    }
   ],
   "source": [
    "algo_str = \"dqn\"\n",
    "env_str = \"MountainCar-v0\"\n",
    "\n",
    "algo_cls = get_algo(algo_str)\n",
    "algo = algo_cls.create(env=env_str, **CONFIGS.get(algo_str, {}))\n",
    "\n",
    "print(algo.config)"
   ]
  },
  {
   "cell_type": "markdown",
   "id": "83d90402",
   "metadata": {},
   "source": [
    "#### **6.3. Training the Agent**"
   ]
  },
  {
   "cell_type": "markdown",
   "id": "47b5d98a",
   "metadata": {},
   "source": [
    "The DQN agent is trained for 400,000 steps with evaluations every 5,000 steps. The training is efficient, processing over 210,000 steps per second, enabling rapid convergence and reduced computational time. This allows for quick and scalable performance improvements."
   ]
  },
  {
   "cell_type": "code",
   "execution_count": 24,
   "id": "f1f5717b",
   "metadata": {},
   "outputs": [
    {
     "name": "stdout",
     "output_type": "stream",
     "text": [
      "Starting to train\n"
     ]
    },
    {
     "name": "stderr",
     "output_type": "stream",
     "text": [
      "/opt/anaconda3/lib/python3.12/site-packages/jax/_src/numpy/array_methods.py:118: UserWarning: Explicitly requested dtype <class 'jax.numpy.int64'> requested in astype is not available, and will be truncated to dtype int32. To enable more dtypes, set the jax_enable_x64 configuration option or the JAX_ENABLE_X64 shell environment variable. See https://github.com/jax-ml/jax#current-gotchas for more.\n",
      "  return lax_numpy.astype(self, dtype, copy=copy, device=device)\n",
      "/opt/anaconda3/lib/python3.12/site-packages/jax/_src/numpy/array_methods.py:118: UserWarning: Explicitly requested dtype <class 'jax.numpy.int64'> requested in astype is not available, and will be truncated to dtype int32. To enable more dtypes, set the jax_enable_x64 configuration option or the JAX_ENABLE_X64 shell environment variable. See https://github.com/jax-ml/jax#current-gotchas for more.\n",
      "  return lax_numpy.astype(self, dtype, copy=copy, device=device)\n"
     ]
    },
    {
     "name": "stdout",
     "output_type": "stream",
     "text": [
      "Finished training in 1.84 seconds (217859.84 steps/second).\n"
     ]
    }
   ],
   "source": [
    "rng = jax.random.PRNGKey(0)\n",
    "train_fn = jax.jit(algo.train)\n",
    "\n",
    "print(\"Starting to train\")\n",
    "\n",
    "# train\n",
    "start = time.time()\n",
    "train_state, evaluation = train_fn(rng)\n",
    "time_elapsed = time.time() - start\n",
    "\n",
    "sps = algo.total_timesteps / time_elapsed\n",
    "print(f\"Finished training in {time_elapsed:.2f} seconds ({sps:.2f} steps/second).\")"
   ]
  },
  {
   "cell_type": "markdown",
   "id": "57b6c7fd",
   "metadata": {},
   "source": [
    "#### **6.4. Training Results**"
   ]
  },
  {
   "cell_type": "markdown",
   "id": "d18afa8f",
   "metadata": {},
   "source": [
    "The evaluation process tracks episodic lengths and returns, capturing the number of steps per episode and the cumulative reward achieved. This data helps assess the agent's performance over multiple evaluations.\n",
    "\n",
    "The plot visualizes the mean episodic return throughout training, providing insight into how the agent improves with experience. By mapping returns against environment steps, we can observe trends and stability in learning progress. This representation is essential for evaluating the effectiveness of the training configuration and identifying potential areas for adjustment.  "
   ]
  },
  {
   "cell_type": "code",
   "execution_count": 25,
   "id": "35311473",
   "metadata": {},
   "outputs": [
    {
     "name": "stdout",
     "output_type": "stream",
     "text": [
      "Tuple size: 2\n",
      "Episodic lengths and episodic returns shape: (81, 128)\n",
      "400000 / 5000 + 1 = 81.0\n"
     ]
    }
   ],
   "source": [
    "print('Tuple size:', len(evaluation))\n",
    "print('Episodic lengths and episodic returns shape:', evaluation[0].shape)\n",
    "print(f\"{algo.total_timesteps} / {algo.eval_freq} + 1 = {(algo.total_timesteps/algo.eval_freq+1)}\" )"
   ]
  },
  {
   "cell_type": "code",
   "execution_count": 26,
   "id": "0b020b3c",
   "metadata": {},
   "outputs": [
    {
     "data": {
      "text/plain": [
       "(Array([[200, 200, 200, ..., 200, 200, 200],\n",
       "        [200, 200, 200, ..., 200, 200, 200],\n",
       "        [200, 181, 140, ..., 143, 143, 143],\n",
       "        ...,\n",
       "        [145, 104,  84, ..., 146, 104, 160],\n",
       "        [115,  87,  91, ..., 118,  95, 155],\n",
       "        [104, 151,  87, ...,  84, 151, 102]], dtype=int32, weak_type=True),\n",
       " Array([[-200., -200., -200., ..., -200., -200., -200.],\n",
       "        [-200., -200., -200., ..., -200., -200., -200.],\n",
       "        [-200., -181., -140., ..., -143., -143., -143.],\n",
       "        ...,\n",
       "        [-145., -104.,  -84., ..., -146., -104., -160.],\n",
       "        [-115.,  -87.,  -91., ..., -118.,  -95., -155.],\n",
       "        [-104., -151.,  -87., ...,  -84., -151., -102.]],      dtype=float32, weak_type=True))"
      ]
     },
     "execution_count": 26,
     "metadata": {},
     "output_type": "execute_result"
    }
   ],
   "source": [
    "evaluation"
   ]
  },
  {
   "cell_type": "code",
   "execution_count": 27,
   "id": "d896fa7f",
   "metadata": {},
   "outputs": [
    {
     "data": {
      "image/png": "[encoded data removed]",
      "text/plain": [
       "<Figure size 1000x500 with 1 Axes>"
      ]
     },
     "metadata": {},
     "output_type": "display_data"
    }
   ],
   "source": [
    "episode_lengths, episode_returns = evaluation\n",
    "mean_return = episode_returns.mean(axis=1)\n",
    "\n",
    "plt.figure(figsize=(10, 5))\n",
    "plt.plot(jax.numpy.linspace(0, algo.total_timesteps, len(mean_return)), mean_return)\n",
    "plt.xlabel(\"Environment step\")\n",
    "plt.ylabel(\"Episodic return\")\n",
    "plt.title(f\"Training agent for {env_str} using {algo_str}\")\n",
    "plt.show()"
   ]
  },
  {
   "cell_type": "markdown",
   "id": "d06a1a22",
   "metadata": {},
   "source": [
    "The plot demonstrates a clear upward trend in episodic returns as training progresses, indicating successful learning.  \n",
    "\n",
    "- **Initial Phase**: Performance starts low with returns around -200, reflecting the agent's struggle to escape the valley.  \n",
    "- **Improvement**: A noticeable increase in returns occurs around 200,000 environment steps, suggesting effective policy updates.  \n",
    "- **Stability**: By 400,000 steps, the returns stabilize near -120, indicating the agent consistently reaches higher positions, closer to solving the environment.  \n",
    "- **Fluctuations**: While minor fluctuations persist, the overall trend highlights the agent's capacity to learn and adapt effectively.  \n",
    "\n",
    "This result confirms the efficacy of the DQN configuration, balancing exploration and exploitation to achieve stable performance improvements over time."
   ]
  },
  {
   "cell_type": "markdown",
   "id": "5ab47d27",
   "metadata": {},
   "source": [
    "The `train_state` output shows the agent’s internal state after training:  "
   ]
  },
  {
   "cell_type": "code",
   "execution_count": 28,
   "id": "54e66703",
   "metadata": {},
   "outputs": [
    {
     "data": {
      "text/plain": [
       "{'rng': (2,),\n",
       " 'env_state': EnvState(time=(1,), position=(1,), velocity=(1,)),\n",
       " 'last_obs': (1, 2),\n",
       " 'global_step': (),\n",
       " 'last_done': (1,),\n",
       " 'q_ts': TrainState(step=(), apply_fn=(), params={'params': {'Dense_0': {'bias': (1,), 'kernel': (64, 1)}, 'Dense_1': {'bias': (3,), 'kernel': (64, 3)}, 'MLP_0': {'Dense_0': {'bias': (64,), 'kernel': (2, 64)}, 'Dense_1': {'bias': (64,), 'kernel': (64, 64)}}}}, tx=GradientTransformationExtraArgs(init=<function chain.<locals>.init_fn at 0x333f1f6a0>, update=<function chain.<locals>.update_fn at 0x334639da0>), opt_state=(ScaleByAdamState(count=(), mu={'params': {'Dense_0': {'bias': (1,), 'kernel': (64, 1)}, 'Dense_1': {'bias': (3,), 'kernel': (64, 3)}, 'MLP_0': {'Dense_0': {'bias': (64,), 'kernel': (2, 64)}, 'Dense_1': {'bias': (64,), 'kernel': (64, 64)}}}}, nu={'params': {'Dense_0': {'bias': (1,), 'kernel': (64, 1)}, 'Dense_1': {'bias': (3,), 'kernel': (64, 3)}, 'MLP_0': {'Dense_0': {'bias': (64,), 'kernel': (2, 64)}, 'Dense_1': {'bias': (64,), 'kernel': (64, 64)}}}}), EmptyState())),\n",
       " 'q_target_params': {'params': {'Dense_0': {'bias': (1,), 'kernel': (64, 1)},\n",
       "   'Dense_1': {'bias': (3,), 'kernel': (64, 3)},\n",
       "   'MLP_0': {'Dense_0': {'bias': (64,), 'kernel': (2, 64)},\n",
       "    'Dense_1': {'bias': (64,), 'kernel': (64, 64)}}}},\n",
       " 'replay_buffer': ReplayBuffer(size=100000, data=Minibatch(obs=(100000, 2), action=(100000,), reward=(100000,), done=(100000,), next_obs=(100000, 2)), index=(), full=()),\n",
       " 'rms_state': RMSState(mean=(1, 2), var=(1, 2), count=())}"
      ]
     },
     "execution_count": 28,
     "metadata": {},
     "output_type": "execute_result"
    }
   ],
   "source": [
    "jax.tree_util.tree_map(lambda x: x.shape, train_state).__dict__"
   ]
  },
  {
   "cell_type": "markdown",
   "id": "0d843ec6",
   "metadata": {},
   "source": [
    "- **env_state** – Tracks time, position, and velocity.  \n",
    "- **last_obs** – Final observation (1, 2).  \n",
    "- **q_ts** – Q-network with two dense layers (64 neurons) and an MLP for feature extraction.  \n",
    "- **q_target_params** – Target Q-network parameters.  \n",
    "- **replay_buffer** – 100,000 transitions stored.  \n",
    "- **rms_state** – Tracks observation mean and variance.  \n",
    "\n",
    "This confirms the agent’s successful setup and training.  "
   ]
  },
  {
   "cell_type": "markdown",
   "id": "ec6d92ac",
   "metadata": {},
   "source": [
    "#### **6.5. Evaluation**"
   ]
  },
  {
   "cell_type": "markdown",
   "id": "9d3a7624",
   "metadata": {},
   "source": [
    "The evaluation phase measures the performance of the trained DQN agent by executing episodes in the environment.  \n",
    "\n",
    "- **Policy Extraction** – The optimal policy is derived from the trained model (`train_state`).  \n",
    "- **Episode Execution** – The agent interacts with the environment using the policy until termination, accumulating rewards to assess performance.  \n",
    "- **Batch Evaluation** – The agent is evaluated over 200 episodes to ensure consistent results.  \n",
    "\n",
    "This process provides insights into the agent’s ability to generalize and achieve goals in unseen episodes, validating its training effectiveness. "
   ]
  },
  {
   "cell_type": "code",
   "execution_count": 29,
   "id": "2ea487f9",
   "metadata": {},
   "outputs": [],
   "source": [
    "policy = algo.make_act(train_state)\n",
    "policy = jax.jit(policy)"
   ]
  },
  {
   "cell_type": "code",
   "execution_count": 30,
   "id": "2a9b928b",
   "metadata": {},
   "outputs": [
    {
     "name": "stdout",
     "output_type": "stream",
     "text": [
      "Return achieved in one episode of MountainCar-v0: -151.0\n"
     ]
    }
   ],
   "source": [
    "rng = jax.random.PRNGKey(0)\n",
    "env, params = gymnax.make(env_str)\n",
    "step = jax.jit(env.step)\n",
    "\n",
    "obs, state = env.reset(rng, params)\n",
    "episode_return = 0\n",
    "done = False\n",
    "\n",
    "while not done:\n",
    "    rng, rng_action, rng_step = jax.random.split(rng, 3)\n",
    "    action = policy(obs, rng_action)\n",
    "    obs, state, reward, done, info = step(rng_step, state, action, params)\n",
    "    episode_return += reward\n",
    "\n",
    "print(f\"Return achieved in one episode of {env_str}: {episode_return}\")"
   ]
  },
  {
   "cell_type": "code",
   "execution_count": 31,
   "id": "ac06f144",
   "metadata": {},
   "outputs": [
    {
     "name": "stdout",
     "output_type": "stream",
     "text": [
      "Evaluated 200 episodes with a total of 23108 environment steps in 0.565409 seconds.\n"
     ]
    }
   ],
   "source": [
    "num_seeds = 200  \n",
    "max_steps = params.max_steps_in_episode\n",
    "\n",
    "rng = jax.random.PRNGKey(0)\n",
    "\n",
    "start = time.time()\n",
    "\n",
    "# Evaluation time!\n",
    "episode_lengths, episode_returns = evaluate(policy, rng, env, params, num_seeds, max_steps)\n",
    "\n",
    "time_elapsed = time.time() - start\n",
    "\n",
    "print(\n",
    "    f\"Evaluated {num_seeds} episodes \"\n",
    "    f\"with a total of {jax.numpy.sum(episode_lengths)} environment steps \"\n",
    "    f\"in {time_elapsed:g} seconds.\"\n",
    ")"
   ]
  },
  {
   "cell_type": "markdown",
   "id": "1f8ff439",
   "metadata": {},
   "source": [
    "#### **6.6. Evaluation Results**"
   ]
  },
  {
   "cell_type": "markdown",
   "id": "0d514530",
   "metadata": {},
   "source": [
    "The histograms illustrate the agent’s performance:  \n",
    "\n",
    "- **Episode Lengths** – Shows varying durations, indicating the agent’s inconsistent speed in reaching the goal.  \n",
    "- **Episode Returns** – Higher returns reflect improved performance and goal achievement in most episodes.  \n",
    "\n",
    "These plots highlight the agent’s efficiency and overall consistency."
   ]
  },
  {
   "cell_type": "code",
   "execution_count": 32,
   "id": "fe132d53",
   "metadata": {},
   "outputs": [
    {
     "data": {
      "image/png": "[encoded data removed]",
      "text/plain": [
       "<Figure size 800x400 with 2 Axes>"
      ]
     },
     "metadata": {},
     "output_type": "display_data"
    }
   ],
   "source": [
    "fig, axes = plt.subplots(figsize=(8, 4), ncols=2, sharey=\"row\")\n",
    "\n",
    "axes[0].hist(episode_lengths, bins=10)\n",
    "axes[0].set(title=\"Episode Lengths\", ylabel=\"Count\")\n",
    "axes[1].hist(episode_returns)\n",
    "axes[1].set(title=\"Episode Return\")\n",
    "\n",
    "plt.show()"
   ]
  },
  {
   "cell_type": "markdown",
   "id": "6fb33eeb",
   "metadata": {},
   "source": [
    "### **7. SAC Agent**"
   ]
  },
  {
   "cell_type": "markdown",
   "id": "761d0085",
   "metadata": {},
   "source": [
    "#### **7.1. SAC Configuration**"
   ]
  },
  {
   "cell_type": "markdown",
   "id": "6cd33c48",
   "metadata": {},
   "source": [
    "The configuration sets the key hyperparameters for the SAC (Soft Actor-Critic) agent:  \n",
    "- **Buffer Size** – Limits the replay buffer to 50,000 experiences, balancing memory use and learning efficiency.  \n",
    "- **Batch Size** – Mini-batch of 64 samples for stable updates.  \n",
    "- **Learning Rate** – A rate of 0.0005 ensures smooth policy updates without overshooting.  \n",
    "- **Target Update Frequency** – The target network is updated every 250 steps to improve stability.  \n",
    "- **Polyak** – A 0.975 value for soft target updates allows gradual adaptation of the target network.  \n",
    "- **Entropy Ratio** – Promotes exploration by controlling the policy entropy.  \n",
    "- **Total Timesteps** – The agent is trained for 400,000 steps, balancing learning and computational efficiency. "
   ]
  },
  {
   "cell_type": "code",
   "execution_count": 33,
   "id": "d4ce5722",
   "metadata": {},
   "outputs": [],
   "source": [
    "CONFIGS = {\n",
    "    \"sac\": {\n",
    "        \"agent_kwargs\": {\"activation\": \"swish\"},  \n",
    "        \"buffer_size\": 50_000,\n",
    "        \"fill_buffer\": 250,\n",
    "        \"batch_size\": 64,\n",
    "        \"learning_rate\": 0.0005,\n",
    "        \"polyak\": 0.975,\n",
    "        \"num_epochs\": 3,\n",
    "        \"target_update_freq\": 250,\n",
    "        \"total_timesteps\": 400_000,\n",
    "        \"eval_freq\": 5_000,\n",
    "        \"gamma\": 0.99,\n",
    "        \"target_entropy_ratio\": 0.75,\n",
    "        \"max_grad_norm\": 1.0,\n",
    "    }\n",
    "}"
   ]
  },
  {
   "cell_type": "markdown",
   "id": "e80d6463",
   "metadata": {},
   "source": [
    "**Insights:**  \n",
    "\n",
    "- **Smaller Buffer Size** (50,000) accelerates updates, suitable for simpler environments like MountainCar-v0.  \n",
    "- **Target Update Frequency** (250) ensures frequent adjustments, promoting adaptability.  \n",
    "- **Higher Polyak Value** (0.975) stabilizes training by gradually updating the target network.  \n",
    "- **Entropy Ratio** (0.75) encourages exploration while maintaining control, critical for escaping local minima in MountainCar.  \n",
    "\n",
    "This setup reflects a trade-off between exploration, stability, and efficiency, balancing learning progress and environment complexity.  "
   ]
  },
  {
   "cell_type": "markdown",
   "id": "60af1112",
   "metadata": {},
   "source": [
    "#### **7.2. Agent Initialization**"
   ]
  },
  {
   "cell_type": "markdown",
   "id": "e932f10c",
   "metadata": {},
   "source": [
    "The SAC agent is initialized using the defined configuration. The `get_algo` function dynamically loads the SAC algorithm, and the environment is set to `MountainCar-v0`."
   ]
  },
  {
   "cell_type": "code",
   "execution_count": 34,
   "id": "ff42ce63",
   "metadata": {},
   "outputs": [
    {
     "name": "stdout",
     "output_type": "stream",
     "text": [
      "{'env': <gymnax.environments.classic_control.mountain_car.MountainCar object at 0x337302b10>, 'env_params': {'max_steps_in_episode': 200, 'min_position': -1.2, 'max_position': 0.6, 'max_speed': 0.07, 'goal_position': 0.5, 'goal_velocity': 0.0, 'force': 0.001, 'gravity': 0.0025}, 'eval_callback': <function Algorithm.create.<locals>.eval_callback at 0x325a6dd00>, 'eval_freq': 5000, 'skip_initial_evaluation': False, 'total_timesteps': 400000, 'learning_rate': 0.0005, 'gamma': 0.99, 'max_grad_norm': 1.0, 'target_update_freq': 250, 'polyak': 0.975, 'normalize_observations': False, 'num_envs': 1, 'buffer_size': 50000, 'fill_buffer': 250, 'batch_size': 64, 'actor': {'action_dim': 3, 'hidden_layer_sizes': (64, 64), 'activation': <PjitFunction>, 'parent': None, 'name': None}, 'critic': {'hidden_layer_sizes': (64, 64), 'activation': <PjitFunction>, 'action_dim': 3, 'parent': None, 'name': None}, 'num_critics': 2, 'num_epochs': 3, 'target_entropy_ratio': 0.75}\n"
     ]
    }
   ],
   "source": [
    "algo_str = \"sac\"\n",
    "env_str = \"MountainCar-v0\"\n",
    "\n",
    "algo_cls = get_algo(algo_str)\n",
    "algo = algo_cls.create(env=env_str, **CONFIGS.get(algo_str, {}))\n",
    "\n",
    "print(algo.config)"
   ]
  },
  {
   "cell_type": "markdown",
   "id": "d0f6f736",
   "metadata": {},
   "source": [
    "#### **7.3. Training the Agent**"
   ]
  },
  {
   "cell_type": "markdown",
   "id": "bb43567d",
   "metadata": {},
   "source": [
    "The SAC agent undergoes 400,000 training steps, with evaluations performed every 5,000 steps. The training achieves approximately **197,362 steps/second**, completing in **2.03 seconds**.  \n",
    "This efficient training reflects SAC's stability and ability to learn continuously, maintaining a balance between exploration and exploitation.  "
   ]
  },
  {
   "cell_type": "code",
   "execution_count": 35,
   "id": "72b116ad",
   "metadata": {},
   "outputs": [
    {
     "name": "stdout",
     "output_type": "stream",
     "text": [
      "Starting to train\n"
     ]
    },
    {
     "name": "stderr",
     "output_type": "stream",
     "text": [
      "/opt/anaconda3/lib/python3.12/site-packages/jax/_src/numpy/array_methods.py:118: UserWarning: Explicitly requested dtype <class 'jax.numpy.int64'> requested in astype is not available, and will be truncated to dtype int32. To enable more dtypes, set the jax_enable_x64 configuration option or the JAX_ENABLE_X64 shell environment variable. See https://github.com/jax-ml/jax#current-gotchas for more.\n",
      "  return lax_numpy.astype(self, dtype, copy=copy, device=device)\n"
     ]
    },
    {
     "name": "stdout",
     "output_type": "stream",
     "text": [
      "Finished training in 2.03 seconds (197361.64 steps/second).\n"
     ]
    }
   ],
   "source": [
    "rng = jax.random.PRNGKey(0)\n",
    "train_fn = jax.jit(algo.train)\n",
    "\n",
    "print(\"Starting to train\")\n",
    "start = time.time()\n",
    "train_state, evaluation = train_fn(rng)\n",
    "time_elapsed = time.time() - start\n",
    "\n",
    "sps = algo.total_timesteps / time_elapsed\n",
    "print(f\"Finished training in {time_elapsed:.2f} seconds ({sps:.2f} steps/second).\")"
   ]
  },
  {
   "cell_type": "markdown",
   "id": "0ce3e2a2",
   "metadata": {},
   "source": [
    "#### **7.4. Training Results**"
   ]
  },
  {
   "cell_type": "markdown",
   "id": "2e8a7be4",
   "metadata": {},
   "source": [
    "We evaluate the SAC agent’s performance by analyzing episodic lengths and returns over multiple evaluations.\n",
    "\n",
    "- The evaluation tuple contains two arrays: one for episodic lengths and another for episodic returns.  \n",
    "- The average return per episode is computed and plotted against the environment steps to visualize learning progress.\n",
    "\n",
    "This provides insights into how the agent improves over time and how effectively it adapts to the environment.  "
   ]
  },
  {
   "cell_type": "code",
   "execution_count": 36,
   "id": "64efc5ca",
   "metadata": {},
   "outputs": [
    {
     "name": "stdout",
     "output_type": "stream",
     "text": [
      "Tuple size: 2\n",
      "Episodic lengths and episodic returns shape: (81, 128)\n",
      "400000 / 5000 + 1 = 81.0\n"
     ]
    }
   ],
   "source": [
    "print('Tuple size:', len(evaluation))\n",
    "print('Episodic lengths and episodic returns shape:', evaluation[0].shape)\n",
    "print(f\"{algo.total_timesteps} / {algo.eval_freq} + 1 = {(algo.total_timesteps/algo.eval_freq+1)}\" )"
   ]
  },
  {
   "cell_type": "code",
   "execution_count": 37,
   "id": "26192b28",
   "metadata": {},
   "outputs": [
    {
     "data": {
      "text/plain": [
       "(Array([[200, 200, 200, ..., 200, 200, 200],\n",
       "        [200, 200, 200, ..., 200, 200, 200],\n",
       "        [200, 200, 200, ..., 200, 200, 200],\n",
       "        ...,\n",
       "        [200, 164, 187, ..., 200, 200, 191],\n",
       "        [200, 200, 200, ..., 200, 200, 159],\n",
       "        [200, 181, 162, ..., 200, 185, 182]], dtype=int32, weak_type=True),\n",
       " Array([[-200., -200., -200., ..., -200., -200., -200.],\n",
       "        [-200., -200., -200., ..., -200., -200., -200.],\n",
       "        [-200., -200., -200., ..., -200., -200., -200.],\n",
       "        ...,\n",
       "        [-200., -164., -187., ..., -200., -200., -191.],\n",
       "        [-200., -200., -200., ..., -200., -200., -159.],\n",
       "        [-200., -181., -162., ..., -200., -185., -182.]],      dtype=float32, weak_type=True))"
      ]
     },
     "execution_count": 37,
     "metadata": {},
     "output_type": "execute_result"
    }
   ],
   "source": [
    "evaluation"
   ]
  },
  {
   "cell_type": "code",
   "execution_count": 38,
   "id": "d5536c29",
   "metadata": {},
   "outputs": [
    {
     "data": {
      "image/png": "[encoded data removed]",
      "text/plain": [
       "<Figure size 1000x500 with 1 Axes>"
      ]
     },
     "metadata": {},
     "output_type": "display_data"
    }
   ],
   "source": [
    "# Extract episode lengths and returns from the evaluation tuple\n",
    "episode_lengths, episode_returns = evaluation\n",
    "mean_return = episode_returns.mean(axis=1)\n",
    "\n",
    "# Plot the learning curve\n",
    "plt.figure(figsize=(10, 5))\n",
    "plt.plot(jax.numpy.linspace(0, algo.total_timesteps, len(mean_return)), mean_return)\n",
    "plt.xlabel(\"Environment step\")\n",
    "plt.ylabel(\"Episodic return\")\n",
    "plt.title(f\"Training agent for {env_str} using {algo_str}\")\n",
    "plt.show()"
   ]
  },
  {
   "cell_type": "markdown",
   "id": "9dd4a534",
   "metadata": {},
   "source": [
    "The plot shows the episodic return improving significantly after an initial flat phase, indicating the agent starts learning around the 150,000-step mark.  \n",
    "There are noticeable spikes in performance, suggesting the SAC agent escapes local minima and refines its policy.  \n",
    "Despite fluctuations, the upward trend demonstrates the agent's ability to learn and improve performance, validating SAC’s strength in continuous action spaces."
   ]
  },
  {
   "cell_type": "markdown",
   "id": "525432ae",
   "metadata": {},
   "source": [
    "The `train_state` output shows the agent’s internal state after training:"
   ]
  },
  {
   "cell_type": "code",
   "execution_count": 39,
   "id": "4daa7b6c",
   "metadata": {},
   "outputs": [
    {
     "data": {
      "text/plain": [
       "{'rng': (2,),\n",
       " 'env_state': EnvState(time=(1,), position=(1,), velocity=(1,)),\n",
       " 'last_obs': (1, 2),\n",
       " 'global_step': (),\n",
       " 'last_done': (1,),\n",
       " 'actor_ts': TrainState(step=(), apply_fn=(), params={'params': {'action_logits': {'bias': (3,), 'kernel': (64, 3)}, 'features': {'Dense_0': {'bias': (64,), 'kernel': (2, 64)}, 'Dense_1': {'bias': (64,), 'kernel': (64, 64)}}}}, tx=GradientTransformationExtraArgs(init=<function chain.<locals>.init_fn at 0x333f1c680>, update=<function chain.<locals>.update_fn at 0x333f1c220>), opt_state=(ScaleByAdamState(count=(), mu={'params': {'action_logits': {'bias': (3,), 'kernel': (64, 3)}, 'features': {'Dense_0': {'bias': (64,), 'kernel': (2, 64)}, 'Dense_1': {'bias': (64,), 'kernel': (64, 64)}}}}, nu={'params': {'action_logits': {'bias': (3,), 'kernel': (64, 3)}, 'features': {'Dense_0': {'bias': (64,), 'kernel': (2, 64)}, 'Dense_1': {'bias': (64,), 'kernel': (64, 64)}}}}), EmptyState())),\n",
       " 'critic_ts': TrainState(step=(), apply_fn=(), params={'params': {'Dense_0': {'bias': (2, 64), 'kernel': (2, 2, 64)}, 'Dense_1': {'bias': (2, 64), 'kernel': (2, 64, 64)}, 'Dense_2': {'bias': (2, 3), 'kernel': (2, 64, 3)}}}, tx=GradientTransformationExtraArgs(init=<function chain.<locals>.init_fn at 0x333f1c680>, update=<function chain.<locals>.update_fn at 0x333f1c220>), opt_state=(ScaleByAdamState(count=(), mu={'params': {'Dense_0': {'bias': (2, 64), 'kernel': (2, 2, 64)}, 'Dense_1': {'bias': (2, 64), 'kernel': (2, 64, 64)}, 'Dense_2': {'bias': (2, 3), 'kernel': (2, 64, 3)}}}, nu={'params': {'Dense_0': {'bias': (2, 64), 'kernel': (2, 2, 64)}, 'Dense_1': {'bias': (2, 64), 'kernel': (2, 64, 64)}, 'Dense_2': {'bias': (2, 3), 'kernel': (2, 64, 3)}}}), EmptyState())),\n",
       " 'critic_target_params': {'params': {'Dense_0': {'bias': (2, 64),\n",
       "    'kernel': (2, 2, 64)},\n",
       "   'Dense_1': {'bias': (2, 64), 'kernel': (2, 64, 64)},\n",
       "   'Dense_2': {'bias': (2, 3), 'kernel': (2, 64, 3)}}},\n",
       " 'alpha_ts': TrainState(step=(), apply_fn=(), params=FrozenDict({\n",
       "     log_alpha: (),\n",
       " }), tx=GradientTransformationExtraArgs(init=<function chain.<locals>.init_fn at 0x333f1c680>, update=<function chain.<locals>.update_fn at 0x333f1c220>), opt_state=(ScaleByAdamState(count=(), mu=FrozenDict({\n",
       "     log_alpha: (),\n",
       " }), nu=FrozenDict({\n",
       "     log_alpha: (),\n",
       " })), EmptyState())),\n",
       " 'replay_buffer': ReplayBuffer(size=50000, data=Minibatch(obs=(50000, 2), action=(50000,), reward=(50000,), done=(50000,), next_obs=(50000, 2)), index=(), full=()),\n",
       " 'rms_state': RMSState(mean=(1, 2), var=(1, 2), count=())}"
      ]
     },
     "execution_count": 39,
     "metadata": {},
     "output_type": "execute_result"
    }
   ],
   "source": [
    "jax.tree_util.tree_map(lambda x: x.shape, train_state).__dict__"
   ]
  },
  {
   "cell_type": "markdown",
   "id": "3da66f85",
   "metadata": {},
   "source": [
    "- **env_state** – Tracks time, position, and velocity.  \n",
    "- **last_obs** – Latest observation of position and velocity.  \n",
    "- **actor_ts** – Actor network with two dense layers for policy learning.  \n",
    "- **critic_ts** – Critic network with three dense layers for Q-value estimation.  \n",
    "- **critic_target_params** – Target network stabilizing critic updates.  \n",
    "- **alpha_ts** – Adjusts entropy to balance exploration and exploitation.  \n",
    "- **replay_buffer** – Holds 50,000 transitions for experience replay.  \n",
    "- **rms_state** – Tracks observation mean and variance for normalization.  \n",
    "\n",
    "This setup supports stable learning by integrating actor-critic dynamics with entropy tuning.  "
   ]
  },
  {
   "cell_type": "markdown",
   "id": "4f1e8c5b",
   "metadata": {},
   "source": [
    "#### **7.5. Evaluation**"
   ]
  },
  {
   "cell_type": "markdown",
   "id": "56c96750",
   "metadata": {},
   "source": [
    "The SAC agent is evaluated over 200 episodes to test its performance and consistency. A single episode run is first conducted to verify the agent's behavior. The trained policy is extracted and optimized using `jax.jit` for faster execution.  \n",
    "\n",
    "During evaluation, episode lengths and returns are recorded to assess the agent's efficiency. The total environment steps and evaluation time provide insights into the agent's computational performance."
   ]
  },
  {
   "cell_type": "code",
   "execution_count": 40,
   "id": "c143d927",
   "metadata": {},
   "outputs": [],
   "source": [
    "policy = algo.make_act(train_state)\n",
    "policy = jax.jit(policy)"
   ]
  },
  {
   "cell_type": "code",
   "execution_count": 41,
   "id": "217e1347",
   "metadata": {},
   "outputs": [
    {
     "name": "stdout",
     "output_type": "stream",
     "text": [
      "Return achieved in one episode of MountainCar-v0: -200.0\n"
     ]
    }
   ],
   "source": [
    "rng = jax.random.PRNGKey(0)\n",
    "env, params = gymnax.make(env_str)\n",
    "step = jax.jit(env.step)\n",
    "\n",
    "# Single Episode Run (Optional Check)\n",
    "obs, state = env.reset(rng, params)\n",
    "episode_return = 0\n",
    "done = False\n",
    "\n",
    "while not done:\n",
    "    rng, rng_action, rng_step = jax.random.split(rng, 3)\n",
    "    action = policy(obs, rng_action)\n",
    "    obs, state, reward, done, info = step(rng_step, state, action, params)\n",
    "    episode_return += reward\n",
    "\n",
    "print(f\"Return achieved in one episode of {env_str}: {episode_return}\")"
   ]
  },
  {
   "cell_type": "code",
   "execution_count": 42,
   "id": "b7dab91a",
   "metadata": {},
   "outputs": [
    {
     "name": "stdout",
     "output_type": "stream",
     "text": [
      "Evaluated 200 episodes with a total of 37327 environment stepsin 0.54 seconds.\n"
     ]
    }
   ],
   "source": [
    "num_seeds = 200\n",
    "max_steps = params.max_steps_in_episode\n",
    "\n",
    "rng = jax.random.PRNGKey(0)\n",
    "\n",
    "start = time.time()\n",
    "\n",
    "# Evaluation time!\n",
    "episode_lengths, episode_returns = evaluate(policy, rng, env, params, num_seeds, max_steps)\n",
    "\n",
    "time_elapsed = time.time() - start\n",
    "\n",
    "print(\n",
    "    f\"Evaluated {num_seeds} episodes \"\n",
    "    f\"with a total of {jax.numpy.sum(episode_lengths)} environment steps\"\n",
    "    f\"in {time_elapsed:.2f} seconds.\"\n",
    ")"
   ]
  },
  {
   "cell_type": "markdown",
   "id": "715855b6",
   "metadata": {},
   "source": [
    "#### **7.6. Evaluation Results**"
   ]
  },
  {
   "cell_type": "markdown",
   "id": "e1de570e",
   "metadata": {},
   "source": [
    "The histograms display the distribution of episode lengths and returns during the SAC agent evaluation. Most episodes reach the maximum length of 200 steps, indicating the agent struggles to reach the goal efficiently.  \n",
    "\n",
    "The episode returns are heavily skewed towards -200, reflecting poor performance and suggesting the agent fails to escape local minima consistently. Some improvement is visible in higher returns, but overall, the agent's performance remains suboptimal."
   ]
  },
  {
   "cell_type": "code",
   "execution_count": 43,
   "id": "bd7e1707",
   "metadata": {},
   "outputs": [
    {
     "data": {
      "image/png": "[encoded data removed]",
      "text/plain": [
       "<Figure size 800x400 with 2 Axes>"
      ]
     },
     "metadata": {},
     "output_type": "display_data"
    }
   ],
   "source": [
    "fig, axes = plt.subplots(figsize=(8, 4), ncols=2, sharey=\"row\")\n",
    "\n",
    "axes[0].hist(episode_lengths, bins=10)\n",
    "axes[0].set(title=\"Episode Lengths\", ylabel=\"Count\")\n",
    "axes[1].hist(episode_returns, bins=10)\n",
    "axes[1].set(title=\"Episode Return\")\n",
    "\n",
    "plt.show()"
   ]
  },
  {
   "cell_type": "markdown",
   "id": "81af6a41",
   "metadata": {},
   "source": [
    "### **8. Agent Comparison**"
   ]
  },
  {
   "cell_type": "markdown",
   "id": "352734b6",
   "metadata": {},
   "source": [
    "1. **Q-learning Agent**:\n",
    "- **Graph**: The first graph shows fluctuating returns initially, with gradual improvement stabilizing around -160 to -140. Some episodes remain at -200, indicating partial success.  \n",
    "- **Behavior**: Q-learning demonstrates learning but struggles with convergence, a common issue in environments with continuous state spaces.  \n",
    "- **Strengths**: Simple and robust. Less prone to instability from neural network training.  \n",
    "- **Limitations**: Poor adaptation to continuous environments, lower returns compared to DQN and SAC.  \n",
    "\n",
    "2. **DQN Agent**:\n",
    "- **Graph**: The second graph shows a steady improvement, with returns reaching around -120 after a faster convergence period.  \n",
    "- **Behavior**: DQN leverages neural networks, achieving better performance in continuous environments. Early instability is replaced by steady growth.  \n",
    "- **Strengths**: Outperforms Q-learning by efficiently approximating Q-values across a broader state space.  \n",
    "- **Limitations**: Return fluctuations suggest the potential need for hyperparameter tuning.  \n",
    "\n",
    "3. **SAC Agent**:\n",
    "- **Graph**: The third graph shows modest improvement, with returns stabilizing between -190 and -170.  \n",
    "- **Behavior**: SAC provides stable learning but converges slower compared to DQN. Despite lower average returns, SAC's consistent performance highlights its strength in complex environments.  \n",
    "- **Strengths**: SAC excels in maintaining stable learning dynamics.  \n",
    "- **Limitations**: Requires more computational resources and tuning for optimal performance.  \n",
    "\n",
    "| **Agent**   | **Average Return** | **Stability** | **Efficiency (Speed)**       | **Adaptation to the Problem** |\n",
    "|-------------|--------------------|---------------|------------------------------|-------------------------------|\n",
    "| Q-learning  | -160 to -140       | Low           | Slow                         | Moderate                      |\n",
    "| DQN         | -120               | Moderate      | Fast                         | High                          |\n",
    "| SAC         | -190 to -170       | High          | Moderate                     | High                          |"
   ]
  },
  {
   "cell_type": "markdown",
   "id": "cac0191c",
   "metadata": {},
   "source": [
    "### **9. Discussion of Results**"
   ]
  },
  {
   "cell_type": "markdown",
   "id": "2014dc34",
   "metadata": {},
   "source": [
    "1. **Why is the DQN Agent the Best Performer?**  \n",
    "DQN efficiently handles environments with continuous state spaces, leveraging neural networks to approximate the Q-function. This allows for better exploration and faster convergence compared to Q-learning. The DQN graph shows consistent improvement, stabilizing at around -120, outperforming both Q-learning and SAC.  \n",
    "\n",
    "1. **Why Did the SAC Agent Underperform Compared to DQN and Q-learning?**  \n",
    "Although SAC is typically robust in continuous environments, its performance in this scenario lagged behind. Possible reasons include:  \n",
    "- Suboptimal exploration strategies or target entropy tuning.  \n",
    "- Hyperparameters that did not fully optimize SAC’s potential for the MountainCar-v0 environment.  \n",
    "- SAC may require more interactions to fully adapt, limiting its effectiveness over shorter training periods.\n",
    "\n",
    "1. **Why Did Q-learning Perform Better Than Expected?**  \n",
    "Contrary to initial expectations, Q-learning demonstrated significant improvement over time, eventually surpassing SAC. This can be attributed to:  \n",
    "- Effective discretization of the state space.  \n",
    "- Simplicity and stability in learning, avoiding neural network-based instabilities.  \n",
    "However, Q-learning's slower convergence and reliance on discretization still make it less efficient than DQN for larger or more complex problems.  \n",
    "\n",
    "DQN emerges as the best agent for the MountainCar-v0 environment, offering the highest returns and stability. Q-learning, while slower, achieved better final performance than SAC, which highlights the importance of fine-tuning SAC’s hyperparameters for specific environments."
   ]
  },
  {
   "cell_type": "markdown",
   "id": "ed7fdd63",
   "metadata": {},
   "source": [
    "### **10 Conclusion**"
   ]
  },
  {
   "cell_type": "markdown",
   "id": "695c4231-fcea-4fb8-9a54-43ec517b42d4",
   "metadata": {},
   "source": [
    "This project compared Q-learning, DQN, and SAC agents on the Mountain Car environment to evaluate their handling of continuous state spaces.  \n",
    "\n",
    "DQN outperformed both Q-learning and SAC, achieving faster convergence and higher returns by leveraging neural networks for state approximation. Q-learning, while effective, showed slower progress and less stability due to state discretization. SAC demonstrated stability but underperformed, likely due to suboptimal hyperparameters or the problem’s nature.  \n",
    "\n",
    "The results emphasize the importance of choosing the right algorithm for specific environments. Future improvements could focus on SAC tuning and testing in more complex scenarios to enhance performance."
   ]
  }
 ],
 "metadata": {
  "kernelspec": {
   "display_name": "base",
   "language": "python",
   "name": "python3"
  },
  "language_info": {
   "codemirror_mode": {
    "name": "ipython",
    "version": 3
   },
   "file_extension": ".py",
   "mimetype": "text/x-python",
   "name": "python",
   "nbconvert_exporter": "python",
   "pygments_lexer": "ipython3",
   "version": "3.12.4"
  }
 },
 "nbformat": 4,
 "nbformat_minor": 5
}
